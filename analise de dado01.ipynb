{
 "cells": [
  {
   "cell_type": "markdown",
   "metadata": {},
   "source": [
    "Introdução a Análise de Dados\n",
    "\n",
    "Como funciona um Projeto de Anãlise de Dados?\n",
    "\n",
    "Os projetos de Análise de Dados ão na verdade Desafios das Empresas\n",
    "\n",
    "Desafios\n",
    "\n",
    "• Empresa Vende Bermudas\n",
    "• 5 Lojas\n",
    "• Está querendo aumentar as vendas\n",
    "• O que fazer?\n",
    "• Informações Disponíveis: Base de Vendas"
   ]
  },
  {
   "cell_type": "markdown",
   "metadata": {},
   "source": [
    "Passo 1 - Trazer sua base de dados para o python"
   ]
  },
  {
   "cell_type": "code",
   "execution_count": null,
   "metadata": {},
   "outputs": [],
   "source": [
    "import pandas as pd\n",
    "\n",
    "tabela = pd.read_excel(\"arquivo.xlsx\")#o arquivo tem que esta na mesma pasta\n",
    "display(tabela)"
   ]
  },
  {
   "cell_type": "markdown",
   "metadata": {},
   "source": [
    "Passo 2 - Pegar um panorama geral sobre a sua base de dados"
   ]
  },
  {
   "cell_type": "code",
   "execution_count": null,
   "metadata": {},
   "outputs": [],
   "source": [
    "faturamento_total = tabela[\"Valor Final\"].sum()\n",
    "print(faturamento_total)"
   ]
  },
  {
   "cell_type": "markdown",
   "metadata": {},
   "source": [
    "Passo 3 - Começar sua análise Top -> Down"
   ]
  },
  {
   "cell_type": "code",
   "execution_count": null,
   "metadata": {},
   "outputs": [],
   "source": [
    "#faturamento por loja\n",
    "faturamento_por_loja = tabela[[\"ID_Loja\", \"Valor Final\"]].groupby([\"ID_Loja\"]).sum()#caso quera mas de uma coluna\n",
    "display(faturamento_por_loja)"
   ]
  },
  {
   "cell_type": "markdown",
   "metadata": {},
   "source": [
    "Passo 4 - Entrar no detalhe para entender"
   ]
  },
  {
   "cell_type": "code",
   "execution_count": null,
   "metadata": {},
   "outputs": [],
   "source": [
    "faturamento_por_produto = tabela[[\"ID_Loja\", \"Produto\",\"Valor Final\"]].groupby([\"ID_Loja\", \"Produto\"]).sum()\n",
    "display(faturamento_por_loja)"
   ]
  }
 ],
 "metadata": {
  "language_info": {
   "name": "python"
  }
 },
 "nbformat": 4,
 "nbformat_minor": 2
}
